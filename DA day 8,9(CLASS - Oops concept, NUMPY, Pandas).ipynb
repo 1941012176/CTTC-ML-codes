{
 "cells": [
  {
   "cell_type": "code",
   "execution_count": 6,
   "id": "8424256d",
   "metadata": {},
   "outputs": [],
   "source": [
    "class bike():\n",
    "    gears = 6"
   ]
  },
  {
   "cell_type": "code",
   "execution_count": 7,
   "id": "aae7e54a",
   "metadata": {},
   "outputs": [],
   "source": [
    "bike1 = bike() #object"
   ]
  },
  {
   "cell_type": "code",
   "execution_count": 8,
   "id": "c7689ab0",
   "metadata": {},
   "outputs": [
    {
     "data": {
      "text/plain": [
       "6"
      ]
     },
     "execution_count": 8,
     "metadata": {},
     "output_type": "execute_result"
    }
   ],
   "source": [
    "bike1.gears"
   ]
  },
  {
   "cell_type": "code",
   "execution_count": 15,
   "id": "baed93ff",
   "metadata": {},
   "outputs": [],
   "source": [
    "class area():\n",
    "    def calarea(self):\n",
    "        return 'hi'"
   ]
  },
  {
   "cell_type": "code",
   "execution_count": 16,
   "id": "c8bc4f7a",
   "metadata": {},
   "outputs": [],
   "source": [
    "area1 = area()"
   ]
  },
  {
   "cell_type": "code",
   "execution_count": 17,
   "id": "62a7e695",
   "metadata": {},
   "outputs": [
    {
     "data": {
      "text/plain": [
       "'hi'"
      ]
     },
     "execution_count": 17,
     "metadata": {},
     "output_type": "execute_result"
    }
   ],
   "source": [
    "area1.calarea()"
   ]
  },
  {
   "cell_type": "code",
   "execution_count": 24,
   "id": "4210deb5",
   "metadata": {},
   "outputs": [],
   "source": [
    "#process 1:\n",
    "class room():\n",
    "    length = 0\n",
    "    breadth = 0\n",
    "    def calculated_area(self, length, breadth):\n",
    "        self.length = length \n",
    "        self.breadth = breadth\n",
    "        return f\"{length* breadth}.m2\"\n",
    "    "
   ]
  },
  {
   "cell_type": "code",
   "execution_count": 25,
   "id": "9dcf9c80",
   "metadata": {},
   "outputs": [
    {
     "data": {
      "text/plain": [
       "'212800.m2'"
      ]
     },
     "execution_count": 25,
     "metadata": {},
     "output_type": "execute_result"
    }
   ],
   "source": [
    "room1 = room()\n",
    "room1.calculated_area(400, 532)"
   ]
  },
  {
   "cell_type": "code",
   "execution_count": 26,
   "id": "55fe27d6",
   "metadata": {},
   "outputs": [],
   "source": [
    "#direct procedure:\n",
    "class room():\n",
    "    def calculated_area1(self, length, breadth):\n",
    "        return f\"{length* breadth}.m2\""
   ]
  },
  {
   "cell_type": "code",
   "execution_count": 23,
   "id": "5bb4ffd1",
   "metadata": {},
   "outputs": [
    {
     "data": {
      "text/plain": [
       "'212800.m2'"
      ]
     },
     "execution_count": 23,
     "metadata": {},
     "output_type": "execute_result"
    }
   ],
   "source": [
    "room1 = room()\n",
    "room1.calculated_area1(400, 532)"
   ]
  },
  {
   "cell_type": "markdown",
   "id": "f523d659",
   "metadata": {},
   "source": [
    "### NumPy:\n"
   ]
  },
  {
   "cell_type": "code",
   "execution_count": 32,
   "id": "184098f5",
   "metadata": {},
   "outputs": [],
   "source": [
    "import numpy as np"
   ]
  },
  {
   "cell_type": "code",
   "execution_count": 33,
   "id": "8497d0f7",
   "metadata": {},
   "outputs": [
    {
     "data": {
      "text/plain": [
       "'1.24.3'"
      ]
     },
     "execution_count": 33,
     "metadata": {},
     "output_type": "execute_result"
    }
   ],
   "source": [
    "np.__version__"
   ]
  },
  {
   "cell_type": "markdown",
   "id": "3d702510",
   "metadata": {},
   "source": [
    "'''\n",
    "NumPy provides a array data type which takes \n",
    "homogeneous type of elements\n",
    "'''\n",
    "\n"
   ]
  },
  {
   "cell_type": "code",
   "execution_count": 34,
   "id": "a7fb5dee",
   "metadata": {},
   "outputs": [
    {
     "data": {
      "text/plain": [
       "array([3, 4, 5, 6, 7])"
      ]
     },
     "execution_count": 34,
     "metadata": {},
     "output_type": "execute_result"
    }
   ],
   "source": [
    "#Creating an 1D array:\n",
    "\n",
    "array1 = np.array([3,4,5,6,7])\n",
    "array1"
   ]
  },
  {
   "cell_type": "code",
   "execution_count": 44,
   "id": "f70ecd39",
   "metadata": {},
   "outputs": [
    {
     "ename": "AttributeError",
     "evalue": "'numpy.ndarray' object has no attribute 'type'",
     "output_type": "error",
     "traceback": [
      "\u001b[1;31m---------------------------------------------------------------------------\u001b[0m",
      "\u001b[1;31mAttributeError\u001b[0m                            Traceback (most recent call last)",
      "Cell \u001b[1;32mIn[44], line 1\u001b[0m\n\u001b[1;32m----> 1\u001b[0m array1\u001b[38;5;241m.\u001b[39mtype\n",
      "\u001b[1;31mAttributeError\u001b[0m: 'numpy.ndarray' object has no attribute 'type'"
     ]
    }
   ],
   "source": [
    "array1.type"
   ]
  },
  {
   "cell_type": "code",
   "execution_count": 48,
   "id": "e793b4e0",
   "metadata": {},
   "outputs": [],
   "source": [
    "arr = np.array([3,4,6,7])"
   ]
  },
  {
   "cell_type": "code",
   "execution_count": 49,
   "id": "a139289e",
   "metadata": {},
   "outputs": [
    {
     "data": {
      "text/plain": [
       "array([3, 4, 6, 7])"
      ]
     },
     "execution_count": 49,
     "metadata": {},
     "output_type": "execute_result"
    }
   ],
   "source": [
    "arr"
   ]
  },
  {
   "cell_type": "code",
   "execution_count": 50,
   "id": "5d330731",
   "metadata": {},
   "outputs": [
    {
     "data": {
      "text/plain": [
       "1"
      ]
     },
     "execution_count": 50,
     "metadata": {},
     "output_type": "execute_result"
    }
   ],
   "source": [
    "arr.ndim"
   ]
  },
  {
   "cell_type": "code",
   "execution_count": 51,
   "id": "5989f05c",
   "metadata": {},
   "outputs": [
    {
     "data": {
      "text/plain": [
       "array([[4, 5, 6, 6],\n",
       "       [3, 4, 5, 6]])"
      ]
     },
     "execution_count": 51,
     "metadata": {},
     "output_type": "execute_result"
    }
   ],
   "source": [
    "arr1 = np.array([[4,5,6,6], [3,4,5,6]]) #2D-Array \n",
    "arr1"
   ]
  },
  {
   "cell_type": "code",
   "execution_count": 52,
   "id": "d23f84e4",
   "metadata": {},
   "outputs": [
    {
     "data": {
      "text/plain": [
       "2"
      ]
     },
     "execution_count": 52,
     "metadata": {},
     "output_type": "execute_result"
    }
   ],
   "source": [
    "arr1.ndim"
   ]
  },
  {
   "cell_type": "code",
   "execution_count": 53,
   "id": "9714576d",
   "metadata": {},
   "outputs": [
    {
     "data": {
      "text/plain": [
       "array([[[4, 5, 6, 7],\n",
       "        [8, 7, 6, 1],\n",
       "        [7, 2, 0, 1]]])"
      ]
     },
     "execution_count": 53,
     "metadata": {},
     "output_type": "execute_result"
    }
   ],
   "source": [
    "arr2 = np.array([[[4,5,6,7],[8,7,6,1], [7,2,0,1]]]) #3D-Array\n",
    "arr2"
   ]
  },
  {
   "cell_type": "code",
   "execution_count": 54,
   "id": "6a9c68db",
   "metadata": {},
   "outputs": [
    {
     "data": {
      "text/plain": [
       "3"
      ]
     },
     "execution_count": 54,
     "metadata": {},
     "output_type": "execute_result"
    }
   ],
   "source": [
    "arr2.ndim"
   ]
  },
  {
   "cell_type": "code",
   "execution_count": 56,
   "id": "32ae7dce",
   "metadata": {},
   "outputs": [
    {
     "data": {
      "text/plain": [
       "(1, 3, 4)"
      ]
     },
     "execution_count": 56,
     "metadata": {},
     "output_type": "execute_result"
    }
   ],
   "source": [
    "arr2.shape"
   ]
  },
  {
   "cell_type": "code",
   "execution_count": 57,
   "id": "bbaf471b",
   "metadata": {},
   "outputs": [
    {
     "data": {
      "text/plain": [
       "12"
      ]
     },
     "execution_count": 57,
     "metadata": {},
     "output_type": "execute_result"
    }
   ],
   "source": [
    "arr2.size"
   ]
  },
  {
   "cell_type": "code",
   "execution_count": 58,
   "id": "39bc576d",
   "metadata": {},
   "outputs": [
    {
     "data": {
      "text/plain": [
       "(5,)"
      ]
     },
     "execution_count": 58,
     "metadata": {},
     "output_type": "execute_result"
    }
   ],
   "source": [
    "array1.shape"
   ]
  },
  {
   "cell_type": "code",
   "execution_count": 59,
   "id": "d8aade59",
   "metadata": {},
   "outputs": [
    {
     "data": {
      "text/plain": [
       "array([ 1,  2,  3,  4,  5,  6,  7,  8,  9, 10])"
      ]
     },
     "execution_count": 59,
     "metadata": {},
     "output_type": "execute_result"
    }
   ],
   "source": [
    "arr3 = np.arange(1,11)\n",
    "arr3"
   ]
  },
  {
   "cell_type": "code",
   "execution_count": 60,
   "id": "67031934",
   "metadata": {},
   "outputs": [
    {
     "data": {
      "text/plain": [
       "array([ 2,  4,  6,  8, 10])"
      ]
     },
     "execution_count": 60,
     "metadata": {},
     "output_type": "execute_result"
    }
   ],
   "source": [
    "arr4 = np.arange(2,11,2)\n",
    "arr4"
   ]
  },
  {
   "cell_type": "code",
   "execution_count": 62,
   "id": "53160269",
   "metadata": {},
   "outputs": [
    {
     "data": {
      "text/plain": [
       "array([[0, 0, 0, 0],\n",
       "       [0, 0, 0, 0],\n",
       "       [0, 0, 0, 0]], dtype=int64)"
      ]
     },
     "execution_count": 62,
     "metadata": {},
     "output_type": "execute_result"
    }
   ],
   "source": [
    "arr5 = np.zeros((3,4)).astype('int64')\n",
    "arr5"
   ]
  },
  {
   "cell_type": "code",
   "execution_count": 66,
   "id": "f6da6afd",
   "metadata": {},
   "outputs": [
    {
     "name": "stdout",
     "output_type": "stream",
     "text": [
      "*\n",
      "**\n",
      "***\n",
      "****\n",
      "*****\n",
      "******\n",
      "*******\n",
      "********\n",
      "*********\n"
     ]
    }
   ],
   "source": [
    "#Pattern Questions:\n",
    "for i in range(1,10):\n",
    "    print('*'*i)"
   ]
  },
  {
   "cell_type": "code",
   "execution_count": 68,
   "id": "42b368c5",
   "metadata": {},
   "outputs": [
    {
     "data": {
      "text/plain": [
       "array([[1, 1, 1, 1, 1],\n",
       "       [1, 1, 1, 1, 1],\n",
       "       [1, 1, 1, 1, 1],\n",
       "       [1, 1, 1, 1, 1]], dtype=int64)"
      ]
     },
     "execution_count": 68,
     "metadata": {},
     "output_type": "execute_result"
    }
   ],
   "source": [
    "arr6 = np.ones((4,5)).astype('int64')\n",
    "arr6"
   ]
  },
  {
   "cell_type": "code",
   "execution_count": 69,
   "id": "31080bd8",
   "metadata": {},
   "outputs": [
    {
     "data": {
      "text/plain": [
       "array([[5, 5, 5, 5],\n",
       "       [5, 5, 5, 5],\n",
       "       [5, 5, 5, 5],\n",
       "       [5, 5, 5, 5]])"
      ]
     },
     "execution_count": 69,
     "metadata": {},
     "output_type": "execute_result"
    }
   ],
   "source": [
    "arr7 = np.full((4,4),5)\n",
    "arr7"
   ]
  },
  {
   "cell_type": "code",
   "execution_count": 73,
   "id": "7d193333",
   "metadata": {},
   "outputs": [
    {
     "data": {
      "text/plain": [
       "array([[1, 0, 0, 0],\n",
       "       [0, 1, 0, 0],\n",
       "       [0, 0, 1, 0],\n",
       "       [0, 0, 0, 1]], dtype=int64)"
      ]
     },
     "execution_count": 73,
     "metadata": {},
     "output_type": "execute_result"
    }
   ],
   "source": [
    "arr8 = np.eye(4,4).astype('int64') #Identity Matrix\n",
    "arr8"
   ]
  },
  {
   "cell_type": "code",
   "execution_count": 76,
   "id": "ee2632a6",
   "metadata": {},
   "outputs": [
    {
     "data": {
      "text/plain": [
       "array([ 1.        ,  1.18367347,  1.36734694,  1.55102041,  1.73469388,\n",
       "        1.91836735,  2.10204082,  2.28571429,  2.46938776,  2.65306122,\n",
       "        2.83673469,  3.02040816,  3.20408163,  3.3877551 ,  3.57142857,\n",
       "        3.75510204,  3.93877551,  4.12244898,  4.30612245,  4.48979592,\n",
       "        4.67346939,  4.85714286,  5.04081633,  5.2244898 ,  5.40816327,\n",
       "        5.59183673,  5.7755102 ,  5.95918367,  6.14285714,  6.32653061,\n",
       "        6.51020408,  6.69387755,  6.87755102,  7.06122449,  7.24489796,\n",
       "        7.42857143,  7.6122449 ,  7.79591837,  7.97959184,  8.16326531,\n",
       "        8.34693878,  8.53061224,  8.71428571,  8.89795918,  9.08163265,\n",
       "        9.26530612,  9.44897959,  9.63265306,  9.81632653, 10.        ])"
      ]
     },
     "execution_count": 76,
     "metadata": {},
     "output_type": "execute_result"
    }
   ],
   "source": [
    "arr9 = np.linspace(1,10)\n",
    "arr9"
   ]
  },
  {
   "cell_type": "code",
   "execution_count": 81,
   "id": "a7c5a634",
   "metadata": {},
   "outputs": [
    {
     "data": {
      "text/plain": [
       "array([ 0. ,  2.5,  5. ,  7.5, 10. ])"
      ]
     },
     "execution_count": 81,
     "metadata": {},
     "output_type": "execute_result"
    }
   ],
   "source": [
    "arr10 = np.linspace(0,10,5)\n",
    "arr10"
   ]
  },
  {
   "cell_type": "code",
   "execution_count": 86,
   "id": "031e9b91",
   "metadata": {},
   "outputs": [
    {
     "data": {
      "text/plain": [
       "0.35751234543407695"
      ]
     },
     "execution_count": 86,
     "metadata": {},
     "output_type": "execute_result"
    }
   ],
   "source": [
    "arr11 = np.random.rand()\n",
    "arr11"
   ]
  },
  {
   "cell_type": "code",
   "execution_count": 90,
   "id": "6cd8d96c",
   "metadata": {},
   "outputs": [
    {
     "data": {
      "text/plain": [
       "array([[0.34294083, 0.52536811, 0.84294665, 0.87623935, 0.69142267,\n",
       "        0.42560706, 0.59353849, 0.93294043, 0.00421063, 0.96045239]])"
      ]
     },
     "execution_count": 90,
     "metadata": {},
     "output_type": "execute_result"
    }
   ],
   "source": [
    "np.random.rand(1,10)"
   ]
  },
  {
   "cell_type": "code",
   "execution_count": 91,
   "id": "e0c4d51f",
   "metadata": {},
   "outputs": [
    {
     "data": {
      "text/plain": [
       "array([[78.18213283, 53.82317262, 73.67456111, 54.90499967, 98.73172179,\n",
       "        64.05744908, 64.98088323, 48.5912433 , 97.0765616 , 98.36746387]])"
      ]
     },
     "execution_count": 91,
     "metadata": {},
     "output_type": "execute_result"
    }
   ],
   "source": [
    "np.random.rand(1,10)*100"
   ]
  },
  {
   "cell_type": "code",
   "execution_count": 92,
   "id": "94dff006",
   "metadata": {},
   "outputs": [
    {
     "data": {
      "text/plain": [
       "9"
      ]
     },
     "execution_count": 92,
     "metadata": {},
     "output_type": "execute_result"
    }
   ],
   "source": [
    "np.random.randint(1,10)"
   ]
  },
  {
   "cell_type": "code",
   "execution_count": 94,
   "id": "49672acb",
   "metadata": {},
   "outputs": [
    {
     "data": {
      "text/plain": [
       "84"
      ]
     },
     "execution_count": 94,
     "metadata": {},
     "output_type": "execute_result"
    }
   ],
   "source": [
    "np.random.randint(1,100)"
   ]
  },
  {
   "cell_type": "code",
   "execution_count": 95,
   "id": "6f2cbcce",
   "metadata": {},
   "outputs": [
    {
     "data": {
      "text/plain": [
       "array([[30, 42,  3, 76],\n",
       "       [ 7, 23, 21, 30],\n",
       "       [51,  3, 92, 64]])"
      ]
     },
     "execution_count": 95,
     "metadata": {},
     "output_type": "execute_result"
    }
   ],
   "source": [
    "np.random.randint(1,100,(3,4))"
   ]
  },
  {
   "cell_type": "code",
   "execution_count": 96,
   "id": "edb89bbb",
   "metadata": {},
   "outputs": [],
   "source": [
    "#Arithmetic operations:"
   ]
  },
  {
   "cell_type": "code",
   "execution_count": 99,
   "id": "d6ba0bfd",
   "metadata": {},
   "outputs": [
    {
     "data": {
      "text/plain": [
       "array([ 2, 35, 66, 43])"
      ]
     },
     "execution_count": 99,
     "metadata": {},
     "output_type": "execute_result"
    }
   ],
   "source": [
    "a = np.array([2,35,66,43])\n",
    "b = np.random.randint(1,100,(4))\n",
    "a\n"
   ]
  },
  {
   "cell_type": "code",
   "execution_count": 98,
   "id": "8b2a4b72",
   "metadata": {},
   "outputs": [
    {
     "data": {
      "text/plain": [
       "array([ 1, 23, 52,  8])"
      ]
     },
     "execution_count": 98,
     "metadata": {},
     "output_type": "execute_result"
    }
   ],
   "source": [
    "b"
   ]
  },
  {
   "cell_type": "code",
   "execution_count": 100,
   "id": "f5ab5cd9",
   "metadata": {},
   "outputs": [
    {
     "data": {
      "text/plain": [
       "array([ 91, 133, 121,  51])"
      ]
     },
     "execution_count": 100,
     "metadata": {},
     "output_type": "execute_result"
    }
   ],
   "source": [
    "a+b"
   ]
  },
  {
   "cell_type": "code",
   "execution_count": 101,
   "id": "af6b7c9d",
   "metadata": {},
   "outputs": [
    {
     "data": {
      "text/plain": [
       "array([ 91, 133, 121,  51])"
      ]
     },
     "execution_count": 101,
     "metadata": {},
     "output_type": "execute_result"
    }
   ],
   "source": [
    "np.add(a,b)"
   ]
  },
  {
   "cell_type": "code",
   "execution_count": 110,
   "id": "9a04efda",
   "metadata": {},
   "outputs": [
    {
     "data": {
      "text/plain": [
       "array([-87, -63,  11,  35])"
      ]
     },
     "execution_count": 110,
     "metadata": {},
     "output_type": "execute_result"
    }
   ],
   "source": [
    "np.subtract(a,b)"
   ]
  },
  {
   "cell_type": "code",
   "execution_count": 109,
   "id": "3fe87403",
   "metadata": {},
   "outputs": [
    {
     "data": {
      "text/plain": [
       "array([ 178, 3430, 3630,  344])"
      ]
     },
     "execution_count": 109,
     "metadata": {},
     "output_type": "execute_result"
    }
   ],
   "source": [
    "np.multiply(a,b)"
   ]
  },
  {
   "cell_type": "code",
   "execution_count": 111,
   "id": "b8e0b0ef",
   "metadata": {},
   "outputs": [
    {
     "data": {
      "text/plain": [
       "array([0.02247191, 0.35714286, 1.2       , 5.375     ])"
      ]
     },
     "execution_count": 111,
     "metadata": {},
     "output_type": "execute_result"
    }
   ],
   "source": [
    "np.divide(a,b)"
   ]
  },
  {
   "cell_type": "code",
   "execution_count": 114,
   "id": "e801c754",
   "metadata": {},
   "outputs": [
    {
     "data": {
      "text/plain": [
       "(array([0, 0, 1, 5]), array([ 2, 35, 11,  3]))"
      ]
     },
     "execution_count": 114,
     "metadata": {},
     "output_type": "execute_result"
    }
   ],
   "source": [
    "np.divmod(a,b)"
   ]
  },
  {
   "cell_type": "code",
   "execution_count": 115,
   "id": "fdb220cb",
   "metadata": {},
   "outputs": [
    {
     "data": {
      "text/plain": [
       "array([0.69314718, 3.55534806, 4.18965474, 3.76120012])"
      ]
     },
     "execution_count": 115,
     "metadata": {},
     "output_type": "execute_result"
    }
   ],
   "source": [
    "np.log(a)"
   ]
  },
  {
   "cell_type": "code",
   "execution_count": 117,
   "id": "7d706b6e",
   "metadata": {},
   "outputs": [
    {
     "data": {
      "text/plain": [
       "array([1.41421356, 5.91607978, 8.1240384 , 6.55743852])"
      ]
     },
     "execution_count": 117,
     "metadata": {},
     "output_type": "execute_result"
    }
   ],
   "source": [
    "np.sqrt(a)"
   ]
  },
  {
   "cell_type": "code",
   "execution_count": 120,
   "id": "b889fbfc",
   "metadata": {},
   "outputs": [
    {
     "data": {
      "text/plain": [
       "array([ 0.90929743, -0.42818267, -0.02655115, -0.83177474])"
      ]
     },
     "execution_count": 120,
     "metadata": {},
     "output_type": "execute_result"
    }
   ],
   "source": [
    "np.sin(a) #values are in radiant"
   ]
  },
  {
   "cell_type": "code",
   "execution_count": 121,
   "id": "b1b4ce32",
   "metadata": {},
   "outputs": [
    {
     "data": {
      "text/plain": [
       "array([ 2, 35, 66, 43])"
      ]
     },
     "execution_count": 121,
     "metadata": {},
     "output_type": "execute_result"
    }
   ],
   "source": [
    "a"
   ]
  },
  {
   "cell_type": "code",
   "execution_count": 122,
   "id": "e62b5c71",
   "metadata": {},
   "outputs": [
    {
     "data": {
      "text/plain": [
       "array([-2.18503986,  0.47381472,  0.02656052, -1.49838734])"
      ]
     },
     "execution_count": 122,
     "metadata": {},
     "output_type": "execute_result"
    }
   ],
   "source": [
    "np.tan(a)"
   ]
  },
  {
   "cell_type": "code",
   "execution_count": 123,
   "id": "6e3abe49",
   "metadata": {},
   "outputs": [
    {
     "data": {
      "text/plain": [
       "array([-0.45765755,  2.11052962, 37.64986844, -0.66738418])"
      ]
     },
     "execution_count": 123,
     "metadata": {},
     "output_type": "execute_result"
    }
   ],
   "source": [
    "1/np.tan(a)"
   ]
  },
  {
   "cell_type": "code",
   "execution_count": 124,
   "id": "a07681bc",
   "metadata": {},
   "outputs": [
    {
     "data": {
      "text/plain": [
       "array([-2.18503986,  0.47381472,  0.02656052, -1.49838734])"
      ]
     },
     "execution_count": 124,
     "metadata": {},
     "output_type": "execute_result"
    }
   ],
   "source": [
    "np.sin(a)/np.cos(a)"
   ]
  },
  {
   "cell_type": "code",
   "execution_count": 125,
   "id": "dabcab63",
   "metadata": {},
   "outputs": [
    {
     "data": {
      "text/plain": [
       "array([-0.45765755,  2.11052962, 37.64986844, -0.66738418])"
      ]
     },
     "execution_count": 125,
     "metadata": {},
     "output_type": "execute_result"
    }
   ],
   "source": [
    "np.cos(a)/np.sin(a)"
   ]
  },
  {
   "cell_type": "code",
   "execution_count": null,
   "id": "2b9f6fad",
   "metadata": {},
   "outputs": [],
   "source": []
  }
 ],
 "metadata": {
  "kernelspec": {
   "display_name": "Python 3 (ipykernel)",
   "language": "python",
   "name": "python3"
  },
  "language_info": {
   "codemirror_mode": {
    "name": "ipython",
    "version": 3
   },
   "file_extension": ".py",
   "mimetype": "text/x-python",
   "name": "python",
   "nbconvert_exporter": "python",
   "pygments_lexer": "ipython3",
   "version": "3.11.5"
  }
 },
 "nbformat": 4,
 "nbformat_minor": 5
}
