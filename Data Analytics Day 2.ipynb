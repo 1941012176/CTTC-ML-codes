{
 "cells": [
  {
   "cell_type": "markdown",
   "id": "942427c3",
   "metadata": {},
   "source": [
    "### Strings:"
   ]
  },
  {
   "cell_type": "code",
   "execution_count": 1,
   "id": "f89963c2",
   "metadata": {},
   "outputs": [
    {
     "data": {
      "text/plain": [
       "'CTTC'"
      ]
     },
     "execution_count": 1,
     "metadata": {},
     "output_type": "execute_result"
    }
   ],
   "source": [
    "'CTTC' # Single line string"
   ]
  },
  {
   "cell_type": "code",
   "execution_count": 3,
   "id": "fb666d45",
   "metadata": {},
   "outputs": [
    {
     "name": "stdout",
     "output_type": "stream",
     "text": [
      " How are\n",
      "you\n",
      "\n"
     ]
    }
   ],
   "source": [
    "print(''' How are\n",
    "you\n",
    "''') #Multiline string"
   ]
  },
  {
   "cell_type": "code",
   "execution_count": 4,
   "id": "5c520c55",
   "metadata": {},
   "outputs": [
    {
     "data": {
      "text/plain": [
       "34"
      ]
     },
     "execution_count": 4,
     "metadata": {},
     "output_type": "execute_result"
    }
   ],
   "source": [
    "34 #int"
   ]
  },
  {
   "cell_type": "code",
   "execution_count": 5,
   "id": "afea9cbd",
   "metadata": {},
   "outputs": [
    {
     "data": {
      "text/plain": [
       "45.4"
      ]
     },
     "execution_count": 5,
     "metadata": {},
     "output_type": "execute_result"
    }
   ],
   "source": [
    "45.4 #float"
   ]
  },
  {
   "cell_type": "code",
   "execution_count": 6,
   "id": "ceaa7ae8",
   "metadata": {},
   "outputs": [
    {
     "data": {
      "text/plain": [
       "4j"
      ]
     },
     "execution_count": 6,
     "metadata": {},
     "output_type": "execute_result"
    }
   ],
   "source": [
    "4j #complex"
   ]
  },
  {
   "cell_type": "code",
   "execution_count": 7,
   "id": "c9738efc",
   "metadata": {},
   "outputs": [
    {
     "data": {
      "text/plain": [
       "False"
      ]
     },
     "execution_count": 7,
     "metadata": {},
     "output_type": "execute_result"
    }
   ],
   "source": [
    "True\n",
    "False #boolean datatype\n"
   ]
  },
  {
   "cell_type": "markdown",
   "id": "1f8f36b9",
   "metadata": {},
   "source": [
    "### List, Tuple, Sets, Dictionary:\n"
   ]
  },
  {
   "cell_type": "code",
   "execution_count": 13,
   "id": "8439a021",
   "metadata": {},
   "outputs": [
    {
     "data": {
      "text/plain": [
       "['uttpal', 67, 6j]"
      ]
     },
     "execution_count": 13,
     "metadata": {},
     "output_type": "execute_result"
    }
   ],
   "source": [
    "['uttpal',67, 6j ] #List"
   ]
  },
  {
   "cell_type": "code",
   "execution_count": 11,
   "id": "1340851c",
   "metadata": {},
   "outputs": [
    {
     "data": {
      "text/plain": [
       "('Uttpal', 67, 6j)"
      ]
     },
     "execution_count": 11,
     "metadata": {},
     "output_type": "execute_result"
    }
   ],
   "source": [
    "('Uttpal', 67, 6j) #tuple"
   ]
  },
  {
   "cell_type": "code",
   "execution_count": 12,
   "id": "e6777c2e",
   "metadata": {},
   "outputs": [
    {
     "data": {
      "text/plain": [
       "{67, 6j, 'uttpal'}"
      ]
     },
     "execution_count": 12,
     "metadata": {},
     "output_type": "execute_result"
    }
   ],
   "source": [
    "{'uttpal', 67, 6j} #set"
   ]
  },
  {
   "cell_type": "code",
   "execution_count": 17,
   "id": "777d4c2e",
   "metadata": {},
   "outputs": [
    {
     "data": {
      "text/plain": [
       "{'name': 'uttpal'}"
      ]
     },
     "execution_count": 17,
     "metadata": {},
     "output_type": "execute_result"
    }
   ],
   "source": [
    "{'name':'uttpal'} #Dictionary"
   ]
  },
  {
   "cell_type": "markdown",
   "id": "12aa9424",
   "metadata": {},
   "source": [
    "### Variables:\n"
   ]
  },
  {
   "cell_type": "code",
   "execution_count": 18,
   "id": "c667928d",
   "metadata": {},
   "outputs": [
    {
     "data": {
      "text/plain": [
       "5"
      ]
     },
     "execution_count": 18,
     "metadata": {},
     "output_type": "execute_result"
    }
   ],
   "source": [
    "a = 5\n",
    "a"
   ]
  },
  {
   "cell_type": "code",
   "execution_count": 19,
   "id": "c3518960",
   "metadata": {},
   "outputs": [
    {
     "data": {
      "text/plain": [
       "8"
      ]
     },
     "execution_count": 19,
     "metadata": {},
     "output_type": "execute_result"
    }
   ],
   "source": [
    "number = 8\n",
    "number"
   ]
  },
  {
   "cell_type": "code",
   "execution_count": 21,
   "id": "3211f5dd",
   "metadata": {
    "scrolled": true
   },
   "outputs": [
    {
     "name": "stdout",
     "output_type": "stream",
     "text": [
      "\n",
      "Here is a list of the Python keywords.  Enter any keyword to get more help.\n",
      "\n",
      "False               class               from                or\n",
      "None                continue            global              pass\n",
      "True                def                 if                  raise\n",
      "and                 del                 import              return\n",
      "as                  elif                in                  try\n",
      "assert              else                is                  while\n",
      "async               except              lambda              with\n",
      "await               finally             nonlocal            yield\n",
      "break               for                 not                 \n",
      "\n"
     ]
    }
   ],
   "source": [
    "help('keywords')"
   ]
  },
  {
   "cell_type": "markdown",
   "id": "b2628370",
   "metadata": {},
   "source": [
    "### Operators:\n"
   ]
  },
  {
   "cell_type": "code",
   "execution_count": 27,
   "id": "8ad872e1",
   "metadata": {},
   "outputs": [
    {
     "name": "stdout",
     "output_type": "stream",
     "text": [
      "8\n",
      "-1\n",
      "20\n",
      "2.0\n",
      "16\n",
      "2\n",
      "1\n"
     ]
    }
   ],
   "source": [
    "#ARITHMETIC OPERATORS:\n",
    "\n",
    "print(4+4)#addition\n",
    "\n",
    "print(4-5)#substraction\n",
    "\n",
    "print(4*5)#multiplication\n",
    "\n",
    "print(4/2)#division\n",
    "\n",
    "print(4**2) #exponent\n",
    "\n",
    "print(5//2) #floor divison\n",
    "\n",
    "print(10%3) #modulo(remainder)"
   ]
  },
  {
   "cell_type": "code",
   "execution_count": 78,
   "id": "1fef9ff4",
   "metadata": {},
   "outputs": [
    {
     "name": "stdout",
     "output_type": "stream",
     "text": [
      "3\n"
     ]
    }
   ],
   "source": [
    "#ASSIGNMENT OPERATORS:\n",
    "\n",
    "a = 3\n",
    "print(a)\n"
   ]
  },
  {
   "cell_type": "code",
   "execution_count": 79,
   "id": "4be89f2f",
   "metadata": {},
   "outputs": [
    {
     "data": {
      "text/plain": [
       "4"
      ]
     },
     "execution_count": 79,
     "metadata": {},
     "output_type": "execute_result"
    }
   ],
   "source": [
    "a = a+1\n",
    "a"
   ]
  },
  {
   "cell_type": "code",
   "execution_count": 80,
   "id": "320a6ffd",
   "metadata": {},
   "outputs": [
    {
     "data": {
      "text/plain": [
       "5"
      ]
     },
     "execution_count": 80,
     "metadata": {},
     "output_type": "execute_result"
    }
   ],
   "source": [
    "a += 1\n",
    "a"
   ]
  },
  {
   "cell_type": "code",
   "execution_count": 81,
   "id": "edd589e8",
   "metadata": {},
   "outputs": [
    {
     "data": {
      "text/plain": [
       "4"
      ]
     },
     "execution_count": 81,
     "metadata": {},
     "output_type": "execute_result"
    }
   ],
   "source": [
    "a -= 1\n",
    "a"
   ]
  },
  {
   "cell_type": "code",
   "execution_count": 82,
   "id": "66568978",
   "metadata": {},
   "outputs": [
    {
     "data": {
      "text/plain": [
       "8"
      ]
     },
     "execution_count": 82,
     "metadata": {},
     "output_type": "execute_result"
    }
   ],
   "source": [
    "a *= 2\n",
    "a"
   ]
  },
  {
   "cell_type": "code",
   "execution_count": 83,
   "id": "a7122657",
   "metadata": {},
   "outputs": [
    {
     "data": {
      "text/plain": [
       "4.0"
      ]
     },
     "execution_count": 83,
     "metadata": {},
     "output_type": "execute_result"
    }
   ],
   "source": [
    "a /= 2\n",
    "a"
   ]
  },
  {
   "cell_type": "code",
   "execution_count": 84,
   "id": "26e454ee",
   "metadata": {},
   "outputs": [
    {
     "data": {
      "text/plain": [
       "4"
      ]
     },
     "execution_count": 84,
     "metadata": {},
     "output_type": "execute_result"
    }
   ],
   "source": [
    "a **= 2\n",
    "4\n"
   ]
  },
  {
   "cell_type": "code",
   "execution_count": 85,
   "id": "5728610d",
   "metadata": {},
   "outputs": [
    {
     "data": {
      "text/plain": [
       "8.0"
      ]
     },
     "execution_count": 85,
     "metadata": {},
     "output_type": "execute_result"
    }
   ],
   "source": [
    "a //= 2\n",
    "a"
   ]
  },
  {
   "cell_type": "code",
   "execution_count": 86,
   "id": "3044aa24",
   "metadata": {},
   "outputs": [
    {
     "data": {
      "text/plain": [
       "2.0"
      ]
     },
     "execution_count": 86,
     "metadata": {},
     "output_type": "execute_result"
    }
   ],
   "source": [
    "a %= 3\n",
    "a"
   ]
  },
  {
   "cell_type": "code",
   "execution_count": 87,
   "id": "8090249e",
   "metadata": {},
   "outputs": [
    {
     "data": {
      "text/plain": [
       "False"
      ]
     },
     "execution_count": 87,
     "metadata": {},
     "output_type": "execute_result"
    }
   ],
   "source": [
    "5 == 4"
   ]
  },
  {
   "cell_type": "code",
   "execution_count": 88,
   "id": "54010b86",
   "metadata": {},
   "outputs": [
    {
     "data": {
      "text/plain": [
       "True"
      ]
     },
     "execution_count": 88,
     "metadata": {},
     "output_type": "execute_result"
    }
   ],
   "source": [
    "5 == 5"
   ]
  },
  {
   "cell_type": "code",
   "execution_count": 89,
   "id": "1202be95",
   "metadata": {},
   "outputs": [
    {
     "data": {
      "text/plain": [
       "True"
      ]
     },
     "execution_count": 89,
     "metadata": {},
     "output_type": "execute_result"
    }
   ],
   "source": [
    "5 != 4"
   ]
  },
  {
   "cell_type": "code",
   "execution_count": 90,
   "id": "a3c47fdc",
   "metadata": {},
   "outputs": [
    {
     "data": {
      "text/plain": [
       "False"
      ]
     },
     "execution_count": 90,
     "metadata": {},
     "output_type": "execute_result"
    }
   ],
   "source": [
    "5 < 4"
   ]
  },
  {
   "cell_type": "code",
   "execution_count": 91,
   "id": "4cee44b4",
   "metadata": {},
   "outputs": [
    {
     "data": {
      "text/plain": [
       "True"
      ]
     },
     "execution_count": 91,
     "metadata": {},
     "output_type": "execute_result"
    }
   ],
   "source": [
    "5>4"
   ]
  },
  {
   "cell_type": "code",
   "execution_count": 92,
   "id": "17fe4ce0",
   "metadata": {},
   "outputs": [
    {
     "data": {
      "text/plain": [
       "False"
      ]
     },
     "execution_count": 92,
     "metadata": {},
     "output_type": "execute_result"
    }
   ],
   "source": [
    "5 <= 4"
   ]
  },
  {
   "cell_type": "code",
   "execution_count": 93,
   "id": "3fe8fcb2",
   "metadata": {},
   "outputs": [
    {
     "data": {
      "text/plain": [
       "True"
      ]
     },
     "execution_count": 93,
     "metadata": {},
     "output_type": "execute_result"
    }
   ],
   "source": [
    "5 >= 5"
   ]
  },
  {
   "cell_type": "code",
   "execution_count": 95,
   "id": "718f5c84",
   "metadata": {},
   "outputs": [
    {
     "data": {
      "text/plain": [
       "True"
      ]
     },
     "execution_count": 95,
     "metadata": {},
     "output_type": "execute_result"
    }
   ],
   "source": [
    "5 >= 4"
   ]
  },
  {
   "cell_type": "markdown",
   "id": "6623da18",
   "metadata": {},
   "source": [
    "### LOGICAL OPERATORS"
   ]
  },
  {
   "cell_type": "code",
   "execution_count": 100,
   "id": "1e26bee6",
   "metadata": {},
   "outputs": [
    {
     "data": {
      "text/plain": [
       "True"
      ]
     },
     "execution_count": 100,
     "metadata": {},
     "output_type": "execute_result"
    }
   ],
   "source": [
    "5 == 5 and 6 != 5"
   ]
  },
  {
   "cell_type": "code",
   "execution_count": 101,
   "id": "5341a780",
   "metadata": {},
   "outputs": [
    {
     "data": {
      "text/plain": [
       "False"
      ]
     },
     "execution_count": 101,
     "metadata": {},
     "output_type": "execute_result"
    }
   ],
   "source": [
    "5 == 5 and 6 == 5"
   ]
  },
  {
   "cell_type": "code",
   "execution_count": 102,
   "id": "4da76a23",
   "metadata": {},
   "outputs": [
    {
     "data": {
      "text/plain": [
       "True"
      ]
     },
     "execution_count": 102,
     "metadata": {},
     "output_type": "execute_result"
    }
   ],
   "source": [
    "5 != 6 or 6 == 5"
   ]
  },
  {
   "cell_type": "code",
   "execution_count": 103,
   "id": "80282151",
   "metadata": {},
   "outputs": [
    {
     "data": {
      "text/plain": [
       "False"
      ]
     },
     "execution_count": 103,
     "metadata": {},
     "output_type": "execute_result"
    }
   ],
   "source": [
    "6 == 5 or 9 == 8"
   ]
  },
  {
   "cell_type": "code",
   "execution_count": 105,
   "id": "3ab50d21",
   "metadata": {},
   "outputs": [
    {
     "data": {
      "text/plain": [
       "True"
      ]
     },
     "execution_count": 105,
     "metadata": {},
     "output_type": "execute_result"
    }
   ],
   "source": [
    "not 5 == 3"
   ]
  },
  {
   "cell_type": "markdown",
   "id": "05cf9d4b",
   "metadata": {},
   "source": [
    "### membership operator:"
   ]
  },
  {
   "cell_type": "code",
   "execution_count": 107,
   "id": "289faf12",
   "metadata": {},
   "outputs": [
    {
     "data": {
      "text/plain": [
       "True"
      ]
     },
     "execution_count": 107,
     "metadata": {},
     "output_type": "execute_result"
    }
   ],
   "source": [
    "'a' in 'apple'"
   ]
  },
  {
   "cell_type": "code",
   "execution_count": 106,
   "id": "7b7c5e68",
   "metadata": {},
   "outputs": [
    {
     "data": {
      "text/plain": [
       "False"
      ]
     },
     "execution_count": 106,
     "metadata": {},
     "output_type": "execute_result"
    }
   ],
   "source": [
    "'a' not in 'apple'"
   ]
  },
  {
   "cell_type": "markdown",
   "id": "93520436",
   "metadata": {},
   "source": [
    "### Identity Operator:"
   ]
  },
  {
   "cell_type": "code",
   "execution_count": 108,
   "id": "dc6d3a10",
   "metadata": {},
   "outputs": [
    {
     "data": {
      "text/plain": [
       "False"
      ]
     },
     "execution_count": 108,
     "metadata": {},
     "output_type": "execute_result"
    }
   ],
   "source": [
    "a = 5\n",
    "b = 4\n",
    "a is b"
   ]
  },
  {
   "cell_type": "code",
   "execution_count": 109,
   "id": "eda51601",
   "metadata": {},
   "outputs": [
    {
     "data": {
      "text/plain": [
       "True"
      ]
     },
     "execution_count": 109,
     "metadata": {},
     "output_type": "execute_result"
    }
   ],
   "source": [
    "a = 5\n",
    "b = 5\n",
    "a is b"
   ]
  },
  {
   "cell_type": "code",
   "execution_count": 110,
   "id": "e7b7b37f",
   "metadata": {},
   "outputs": [
    {
     "data": {
      "text/plain": [
       "False"
      ]
     },
     "execution_count": 110,
     "metadata": {},
     "output_type": "execute_result"
    }
   ],
   "source": [
    "a = 5\n",
    "b = 5\n",
    "a is not b"
   ]
  },
  {
   "cell_type": "code",
   "execution_count": 111,
   "id": "6a5ed0de",
   "metadata": {},
   "outputs": [
    {
     "data": {
      "text/plain": [
       "'cttccttccttccttccttc'"
      ]
     },
     "execution_count": 111,
     "metadata": {},
     "output_type": "execute_result"
    }
   ],
   "source": [
    "#special condition:\n",
    "\n",
    "5 * 'cttc'"
   ]
  },
  {
   "cell_type": "markdown",
   "id": "f68cf9ac",
   "metadata": {},
   "source": [
    "### Type casting:"
   ]
  },
  {
   "cell_type": "code",
   "execution_count": 120,
   "id": "fdf0fa17",
   "metadata": {},
   "outputs": [
    {
     "data": {
      "text/plain": [
       "123"
      ]
     },
     "execution_count": 120,
     "metadata": {},
     "output_type": "execute_result"
    }
   ],
   "source": [
    "s = '123' # string to int\n",
    "s = int(s)\n",
    "s\n"
   ]
  },
  {
   "cell_type": "code",
   "execution_count": 121,
   "id": "70a4dcac",
   "metadata": {},
   "outputs": [
    {
     "data": {
      "text/plain": [
       "int"
      ]
     },
     "execution_count": 121,
     "metadata": {},
     "output_type": "execute_result"
    }
   ],
   "source": [
    "type(s)"
   ]
  },
  {
   "cell_type": "code",
   "execution_count": 122,
   "id": "385c2f6f",
   "metadata": {},
   "outputs": [
    {
     "data": {
      "text/plain": [
       "123.0"
      ]
     },
     "execution_count": 122,
     "metadata": {},
     "output_type": "execute_result"
    }
   ],
   "source": [
    "s = float(s) #string to float\n",
    "s"
   ]
  },
  {
   "cell_type": "code",
   "execution_count": 123,
   "id": "d1de02c7",
   "metadata": {},
   "outputs": [
    {
     "data": {
      "text/plain": [
       "float"
      ]
     },
     "execution_count": 123,
     "metadata": {},
     "output_type": "execute_result"
    }
   ],
   "source": [
    "type(s)"
   ]
  },
  {
   "cell_type": "code",
   "execution_count": 126,
   "id": "6987eb8f",
   "metadata": {},
   "outputs": [
    {
     "data": {
      "text/plain": [
       "[6, True, 'Uttpal']"
      ]
     },
     "execution_count": 126,
     "metadata": {},
     "output_type": "execute_result"
    }
   ],
   "source": [
    "l = [6,True, 'Uttpal']\n",
    "l"
   ]
  },
  {
   "cell_type": "code",
   "execution_count": 127,
   "id": "adda2fb3",
   "metadata": {},
   "outputs": [
    {
     "data": {
      "text/plain": [
       "list"
      ]
     },
     "execution_count": 127,
     "metadata": {},
     "output_type": "execute_result"
    }
   ],
   "source": [
    "type(l)"
   ]
  },
  {
   "cell_type": "code",
   "execution_count": 131,
   "id": "6656ac0a",
   "metadata": {},
   "outputs": [
    {
     "name": "stdout",
     "output_type": "stream",
     "text": [
      "(6, True, 'Uttpal')\n"
     ]
    }
   ],
   "source": [
    "#list to tuple:\n",
    "t = tuple(l)\n",
    "type(t)\n",
    "print(t)"
   ]
  },
  {
   "cell_type": "code",
   "execution_count": 136,
   "id": "0b23afc1",
   "metadata": {},
   "outputs": [
    {
     "name": "stdout",
     "output_type": "stream",
     "text": [
      "{'Uttpal', True, 6}\n"
     ]
    }
   ],
   "source": [
    "#list to set:\n",
    "s = set(l)\n",
    "type(s)\n",
    "print(s)"
   ]
  },
  {
   "cell_type": "code",
   "execution_count": 137,
   "id": "23b3fe84",
   "metadata": {},
   "outputs": [
    {
     "name": "stdout",
     "output_type": "stream",
     "text": [
      "{'Uttpal', True, 6}\n"
     ]
    }
   ],
   "source": [
    "#tuple to set:\n",
    "s = set(t)\n",
    "type(s)\n",
    "print(s)"
   ]
  },
  {
   "cell_type": "markdown",
   "id": "f302bfaa",
   "metadata": {},
   "source": [
    "### Data Types:\n"
   ]
  },
  {
   "cell_type": "code",
   "execution_count": 138,
   "id": "25e1a46f",
   "metadata": {},
   "outputs": [],
   "source": [
    "# String:"
   ]
  },
  {
   "cell_type": "code",
   "execution_count": 147,
   "id": "bbe2b7cb",
   "metadata": {},
   "outputs": [
    {
     "data": {
      "text/plain": [
       "'Hello World!'"
      ]
     },
     "execution_count": 147,
     "metadata": {},
     "output_type": "execute_result"
    }
   ],
   "source": [
    "s = 'Hello World!'\n",
    "s"
   ]
  },
  {
   "cell_type": "code",
   "execution_count": 148,
   "id": "5fe1bd60",
   "metadata": {},
   "outputs": [
    {
     "data": {
      "text/plain": [
       "'Cttc provides training \\n and placements to students'"
      ]
     },
     "execution_count": 148,
     "metadata": {},
     "output_type": "execute_result"
    }
   ],
   "source": [
    "s1 = '''Cttc provides training \n",
    " and placements to students'''\n",
    "s1"
   ]
  },
  {
   "cell_type": "code",
   "execution_count": 149,
   "id": "1a7155e3",
   "metadata": {},
   "outputs": [],
   "source": [
    "#indexing and slicing:"
   ]
  },
  {
   "cell_type": "code",
   "execution_count": 150,
   "id": "4ff02f3d",
   "metadata": {},
   "outputs": [
    {
     "data": {
      "text/plain": [
       "'Hello World!'"
      ]
     },
     "execution_count": 150,
     "metadata": {},
     "output_type": "execute_result"
    }
   ],
   "source": [
    "s"
   ]
  },
  {
   "cell_type": "code",
   "execution_count": 156,
   "id": "8a777660",
   "metadata": {},
   "outputs": [
    {
     "data": {
      "text/plain": [
       "('H', 'H')"
      ]
     },
     "execution_count": 156,
     "metadata": {},
     "output_type": "execute_result"
    }
   ],
   "source": [
    "s[0], s[-12] #indexing"
   ]
  },
  {
   "cell_type": "code",
   "execution_count": 159,
   "id": "7bcb33f5",
   "metadata": {},
   "outputs": [
    {
     "data": {
      "text/plain": [
       "'Hello'"
      ]
     },
     "execution_count": 159,
     "metadata": {},
     "output_type": "execute_result"
    }
   ],
   "source": [
    "s[0:5]"
   ]
  },
  {
   "cell_type": "code",
   "execution_count": 163,
   "id": "0548ff61",
   "metadata": {},
   "outputs": [
    {
     "data": {
      "text/plain": [
       "'Hello'"
      ]
     },
     "execution_count": 163,
     "metadata": {},
     "output_type": "execute_result"
    }
   ],
   "source": [
    "s[0:5:1] # positive slicing"
   ]
  },
  {
   "cell_type": "code",
   "execution_count": 165,
   "id": "2a0d6ccc",
   "metadata": {},
   "outputs": [
    {
     "data": {
      "text/plain": [
       "'Hello'"
      ]
     },
     "execution_count": 165,
     "metadata": {},
     "output_type": "execute_result"
    }
   ],
   "source": [
    "s[-12:-7] #negative slicing"
   ]
  },
  {
   "cell_type": "code",
   "execution_count": 171,
   "id": "abda6ba0",
   "metadata": {},
   "outputs": [
    {
     "data": {
      "text/plain": [
       "'Hello'"
      ]
     },
     "execution_count": 171,
     "metadata": {},
     "output_type": "execute_result"
    }
   ],
   "source": [
    "s[-12:-7:1]"
   ]
  },
  {
   "cell_type": "code",
   "execution_count": 176,
   "id": "d82e9752",
   "metadata": {},
   "outputs": [
    {
     "data": {
      "text/plain": [
       "'Wrd'"
      ]
     },
     "execution_count": 176,
     "metadata": {},
     "output_type": "execute_result"
    }
   ],
   "source": [
    "s[-6:-1:2]"
   ]
  },
  {
   "cell_type": "code",
   "execution_count": 178,
   "id": "9b1f820e",
   "metadata": {},
   "outputs": [
    {
     "data": {
      "text/plain": [
       "'!dlroW olleH'"
      ]
     },
     "execution_count": 178,
     "metadata": {},
     "output_type": "execute_result"
    }
   ],
   "source": [
    "s[::-1] # reverse"
   ]
  },
  {
   "cell_type": "code",
   "execution_count": 184,
   "id": "814b9e46",
   "metadata": {},
   "outputs": [
    {
     "data": {
      "text/plain": [
       "'drW'"
      ]
     },
     "execution_count": 184,
     "metadata": {},
     "output_type": "execute_result"
    }
   ],
   "source": [
    "s[-2:-7:-2]"
   ]
  },
  {
   "cell_type": "code",
   "execution_count": 183,
   "id": "f4d5dd78",
   "metadata": {},
   "outputs": [
    {
     "data": {
      "text/plain": [
       "' World'"
      ]
     },
     "execution_count": 183,
     "metadata": {},
     "output_type": "execute_result"
    }
   ],
   "source": [
    "s[-7:-1]"
   ]
  },
  {
   "cell_type": "markdown",
   "id": "52b93c0e",
   "metadata": {},
   "source": [
    "### String Attribute:"
   ]
  },
  {
   "cell_type": "code",
   "execution_count": 185,
   "id": "3520b2b6",
   "metadata": {},
   "outputs": [
    {
     "data": {
      "text/plain": [
       "'CENTRAL'"
      ]
     },
     "execution_count": 185,
     "metadata": {},
     "output_type": "execute_result"
    }
   ],
   "source": [
    "s1 = \"ceNtraL\"\n",
    "s1.upper()"
   ]
  },
  {
   "cell_type": "code",
   "execution_count": 186,
   "id": "154c14ce",
   "metadata": {},
   "outputs": [
    {
     "data": {
      "text/plain": [
       "'central'"
      ]
     },
     "execution_count": 186,
     "metadata": {},
     "output_type": "execute_result"
    }
   ],
   "source": [
    "s1.lower()"
   ]
  },
  {
   "cell_type": "code",
   "execution_count": 187,
   "id": "0c16bdbd",
   "metadata": {},
   "outputs": [
    {
     "data": {
      "text/plain": [
       "'Central tool room'"
      ]
     },
     "execution_count": 187,
     "metadata": {},
     "output_type": "execute_result"
    }
   ],
   "source": [
    "s2 = 'central tool room'\n",
    "s2.capitalize()"
   ]
  },
  {
   "cell_type": "code",
   "execution_count": 188,
   "id": "21e8694c",
   "metadata": {},
   "outputs": [
    {
     "data": {
      "text/plain": [
       "'odisha'"
      ]
     },
     "execution_count": 188,
     "metadata": {},
     "output_type": "execute_result"
    }
   ],
   "source": [
    "s3 = 'ODISHA'\n",
    "s3.lower()"
   ]
  },
  {
   "cell_type": "code",
   "execution_count": 189,
   "id": "26441f55",
   "metadata": {},
   "outputs": [
    {
     "data": {
      "text/plain": [
       "'odisha'"
      ]
     },
     "execution_count": 189,
     "metadata": {},
     "output_type": "execute_result"
    }
   ],
   "source": [
    "s3.casefold()"
   ]
  },
  {
   "cell_type": "code",
   "execution_count": 190,
   "id": "634dd1ef",
   "metadata": {},
   "outputs": [
    {
     "data": {
      "text/plain": [
       "'**********ODISHA**********'"
      ]
     },
     "execution_count": 190,
     "metadata": {},
     "output_type": "execute_result"
    }
   ],
   "source": [
    "s3.center(26, '*')"
   ]
  },
  {
   "cell_type": "code",
   "execution_count": 193,
   "id": "9dabb4ea",
   "metadata": {},
   "outputs": [
    {
     "data": {
      "text/plain": [
       "4"
      ]
     },
     "execution_count": 193,
     "metadata": {},
     "output_type": "execute_result"
    }
   ],
   "source": [
    "s3.index('H')"
   ]
  },
  {
   "cell_type": "code",
   "execution_count": 198,
   "id": "5ef9f3e7",
   "metadata": {},
   "outputs": [
    {
     "data": {
      "text/plain": [
       "1"
      ]
     },
     "execution_count": 198,
     "metadata": {},
     "output_type": "execute_result"
    }
   ],
   "source": [
    "s3.count('A')"
   ]
  },
  {
   "cell_type": "code",
   "execution_count": 200,
   "id": "6f742674",
   "metadata": {},
   "outputs": [
    {
     "data": {
      "text/plain": [
       "'uttpal.2000@gmail.com'"
      ]
     },
     "execution_count": 200,
     "metadata": {},
     "output_type": "execute_result"
    }
   ],
   "source": [
    "'@'.join(['uttpal.2000', 'gmail.com'])"
   ]
  },
  {
   "cell_type": "code",
   "execution_count": 203,
   "id": "6d2828e7",
   "metadata": {},
   "outputs": [
    {
     "data": {
      "text/plain": [
       "['uttpal.2000', 'gmail.com']"
      ]
     },
     "execution_count": 203,
     "metadata": {},
     "output_type": "execute_result"
    }
   ],
   "source": [
    "'uttpal.2000@gmail.com'.split('@')"
   ]
  },
  {
   "cell_type": "code",
   "execution_count": 204,
   "id": "3cc9d632",
   "metadata": {},
   "outputs": [
    {
     "data": {
      "text/plain": [
       "'Hello World!'"
      ]
     },
     "execution_count": 204,
     "metadata": {},
     "output_type": "execute_result"
    }
   ],
   "source": [
    "s"
   ]
  },
  {
   "cell_type": "code",
   "execution_count": 210,
   "id": "0dc90fdf",
   "metadata": {},
   "outputs": [
    {
     "data": {
      "text/plain": [
       "True"
      ]
     },
     "execution_count": 210,
     "metadata": {},
     "output_type": "execute_result"
    }
   ],
   "source": [
    "'uttpal'.isalpha()"
   ]
  },
  {
   "cell_type": "code",
   "execution_count": 211,
   "id": "a2de4f2a",
   "metadata": {},
   "outputs": [
    {
     "data": {
      "text/plain": [
       "False"
      ]
     },
     "execution_count": 211,
     "metadata": {},
     "output_type": "execute_result"
    }
   ],
   "source": [
    "'uttpal10'.isalpha()"
   ]
  },
  {
   "cell_type": "code",
   "execution_count": 212,
   "id": "652e4d78",
   "metadata": {},
   "outputs": [
    {
     "data": {
      "text/plain": [
       "True"
      ]
     },
     "execution_count": 212,
     "metadata": {},
     "output_type": "execute_result"
    }
   ],
   "source": [
    "'1234'.isdigit()"
   ]
  },
  {
   "cell_type": "code",
   "execution_count": 213,
   "id": "314fb33e",
   "metadata": {},
   "outputs": [
    {
     "data": {
      "text/plain": [
       "False"
      ]
     },
     "execution_count": 213,
     "metadata": {},
     "output_type": "execute_result"
    }
   ],
   "source": [
    "'1234x'.isdigit()"
   ]
  },
  {
   "cell_type": "code",
   "execution_count": 214,
   "id": "71f89585",
   "metadata": {},
   "outputs": [
    {
     "data": {
      "text/plain": [
       "True"
      ]
     },
     "execution_count": 214,
     "metadata": {},
     "output_type": "execute_result"
    }
   ],
   "source": [
    "'1234'.isnumeric()"
   ]
  },
  {
   "cell_type": "code",
   "execution_count": 215,
   "id": "3e1e159f",
   "metadata": {},
   "outputs": [
    {
     "data": {
      "text/plain": [
       "False"
      ]
     },
     "execution_count": 215,
     "metadata": {},
     "output_type": "execute_result"
    }
   ],
   "source": [
    "'1234x'.isnumeric()"
   ]
  },
  {
   "cell_type": "code",
   "execution_count": 216,
   "id": "90a7196d",
   "metadata": {},
   "outputs": [
    {
     "data": {
      "text/plain": [
       "True"
      ]
     },
     "execution_count": 216,
     "metadata": {},
     "output_type": "execute_result"
    }
   ],
   "source": [
    "'1234x'.isalnum()"
   ]
  },
  {
   "cell_type": "code",
   "execution_count": 217,
   "id": "899dc816",
   "metadata": {},
   "outputs": [
    {
     "data": {
      "text/plain": [
       "False"
      ]
     },
     "execution_count": 217,
     "metadata": {},
     "output_type": "execute_result"
    }
   ],
   "source": [
    "'1234$x'.isalnum()"
   ]
  },
  {
   "cell_type": "code",
   "execution_count": 218,
   "id": "b2fad04b",
   "metadata": {},
   "outputs": [
    {
     "data": {
      "text/plain": [
       "False"
      ]
     },
     "execution_count": 218,
     "metadata": {},
     "output_type": "execute_result"
    }
   ],
   "source": [
    "'1234$x'.isidentifier()"
   ]
  },
  {
   "cell_type": "code",
   "execution_count": 219,
   "id": "59346876",
   "metadata": {},
   "outputs": [
    {
     "data": {
      "text/plain": [
       "True"
      ]
     },
     "execution_count": 219,
     "metadata": {},
     "output_type": "execute_result"
    }
   ],
   "source": [
    "'_uttpal'.isidentifier()"
   ]
  },
  {
   "cell_type": "code",
   "execution_count": null,
   "id": "c57c79d2",
   "metadata": {},
   "outputs": [],
   "source": []
  }
 ],
 "metadata": {
  "kernelspec": {
   "display_name": "Python 3 (ipykernel)",
   "language": "python",
   "name": "python3"
  },
  "language_info": {
   "codemirror_mode": {
    "name": "ipython",
    "version": 3
   },
   "file_extension": ".py",
   "mimetype": "text/x-python",
   "name": "python",
   "nbconvert_exporter": "python",
   "pygments_lexer": "ipython3",
   "version": "3.11.5"
  }
 },
 "nbformat": 4,
 "nbformat_minor": 5
}
