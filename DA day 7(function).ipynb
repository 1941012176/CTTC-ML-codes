{
 "cells": [
  {
   "cell_type": "markdown",
   "id": "9fcd3b67",
   "metadata": {},
   "source": [
    "### Functions:\n"
   ]
  },
  {
   "cell_type": "code",
   "execution_count": 1,
   "id": "4edb7037",
   "metadata": {},
   "outputs": [],
   "source": [
    "#Functions are the block of use\n",
    "# 1: user - defined functions\n",
    "# 2: pre-defined functions\n",
    "# 3: lambda function\n",
    "# 4: Recursion function"
   ]
  },
  {
   "cell_type": "code",
   "execution_count": 2,
   "id": "8da348e3",
   "metadata": {},
   "outputs": [
    {
     "data": {
      "text/plain": [
       "28"
      ]
     },
     "execution_count": 2,
     "metadata": {},
     "output_type": "execute_result"
    }
   ],
   "source": [
    "sum([4,5,7,8,4]) #build-in function"
   ]
  },
  {
   "cell_type": "code",
   "execution_count": 5,
   "id": "e96bf8c9",
   "metadata": {},
   "outputs": [
    {
     "name": "stdout",
     "output_type": "stream",
     "text": [
      "23\n"
     ]
    }
   ],
   "source": [
    "#Example-1: Sum functions\n",
    "a = [4,5,6,8]\n",
    "sum1 = 0\n",
    "for i in a:\n",
    "    sum1 = sum1+i\n",
    "print(sum1)"
   ]
  },
  {
   "cell_type": "markdown",
   "id": "8ba731cd",
   "metadata": {},
   "source": [
    "Pre defined function"
   ]
  },
  {
   "cell_type": "code",
   "execution_count": 6,
   "id": "c8c88df9",
   "metadata": {},
   "outputs": [
    {
     "name": "stdout",
     "output_type": "stream",
     "text": [
      "Uttpal\n"
     ]
    }
   ],
   "source": [
    "print('Uttpal')"
   ]
  },
  {
   "cell_type": "code",
   "execution_count": 7,
   "id": "469e7d65",
   "metadata": {},
   "outputs": [
    {
     "data": {
      "text/plain": [
       "str"
      ]
     },
     "execution_count": 7,
     "metadata": {},
     "output_type": "execute_result"
    }
   ],
   "source": [
    "type('Uttpal')"
   ]
  },
  {
   "cell_type": "markdown",
   "id": "2dc78550",
   "metadata": {},
   "source": [
    "User Defined Function:\n"
   ]
  },
  {
   "cell_type": "code",
   "execution_count": 10,
   "id": "d96daa47",
   "metadata": {},
   "outputs": [],
   "source": [
    "# def keyword used in User-Defined Function:"
   ]
  },
  {
   "cell_type": "code",
   "execution_count": 13,
   "id": "1e355a72",
   "metadata": {},
   "outputs": [
    {
     "name": "stdout",
     "output_type": "stream",
     "text": [
      "Uttpal\n"
     ]
    }
   ],
   "source": [
    "def function_name():\n",
    "    print(\"Uttpal\")\n",
    "function_name()"
   ]
  },
  {
   "cell_type": "code",
   "execution_count": 16,
   "id": "9bf6a51d",
   "metadata": {},
   "outputs": [
    {
     "data": {
      "text/plain": [
       "'UttpalTripathy'"
      ]
     },
     "execution_count": 16,
     "metadata": {},
     "output_type": "execute_result"
    }
   ],
   "source": [
    "def function_namez(): # function creation\n",
    "    first_name = 'Uttpal' #function without any arguments\n",
    "    last_name = 'Tripathy'\n",
    "    return first_name + last_name\n",
    "function_namez() #function calling"
   ]
  },
  {
   "cell_type": "code",
   "execution_count": 17,
   "id": "e429e73b",
   "metadata": {},
   "outputs": [],
   "source": [
    "# functions with argument:\n",
    "def func1(a,b):    \n",
    "    return a+b"
   ]
  },
  {
   "cell_type": "code",
   "execution_count": 18,
   "id": "fcfe30df",
   "metadata": {},
   "outputs": [
    {
     "data": {
      "text/plain": [
       "7"
      ]
     },
     "execution_count": 18,
     "metadata": {},
     "output_type": "execute_result"
    }
   ],
   "source": [
    "func1(3,4)"
   ]
  },
  {
   "cell_type": "code",
   "execution_count": 19,
   "id": "0a616ac7",
   "metadata": {},
   "outputs": [
    {
     "data": {
      "text/plain": [
       "'UttpalTripathy'"
      ]
     },
     "execution_count": 19,
     "metadata": {},
     "output_type": "execute_result"
    }
   ],
   "source": [
    "func1(\"Uttpal\" , \"Tripathy\")"
   ]
  },
  {
   "cell_type": "code",
   "execution_count": 28,
   "id": "9ca67000",
   "metadata": {},
   "outputs": [],
   "source": [
    "# Function with default arguments:\n",
    "def func2 (a=0, b=0):\n",
    "    return int(a+b)"
   ]
  },
  {
   "cell_type": "code",
   "execution_count": 29,
   "id": "d4d30db4",
   "metadata": {},
   "outputs": [
    {
     "data": {
      "text/plain": [
       "15"
      ]
     },
     "execution_count": 29,
     "metadata": {},
     "output_type": "execute_result"
    }
   ],
   "source": [
    "func2(8,7)"
   ]
  },
  {
   "cell_type": "code",
   "execution_count": 34,
   "id": "c43fb136",
   "metadata": {},
   "outputs": [],
   "source": [
    "# Function with multiple argumnents:\n",
    "def func3(*a):\n",
    "    return a"
   ]
  },
  {
   "cell_type": "code",
   "execution_count": 35,
   "id": "faba2979",
   "metadata": {},
   "outputs": [
    {
     "data": {
      "text/plain": [
       "(4, 5, 6, 7, 9, 'Uttpal', True)"
      ]
     },
     "execution_count": 35,
     "metadata": {},
     "output_type": "execute_result"
    }
   ],
   "source": [
    "func3(4,5,6,7,9, 'Uttpal', True)"
   ]
  },
  {
   "cell_type": "markdown",
   "id": "3906d317",
   "metadata": {},
   "source": [
    "WAP to check wheather the number is prime or not inside of the function."
   ]
  },
  {
   "cell_type": "code",
   "execution_count": 76,
   "id": "51988d95",
   "metadata": {},
   "outputs": [],
   "source": [
    "#METHOD 1:\n",
    "def is_Prime(n):\n",
    "    if n <= 1:\n",
    "        return False\n",
    "\n",
    "    for i in range(2, int(n**0.5) + 1):\n",
    "        if n % i == 0:\n",
    "            return False\n",
    "\n",
    "    return True"
   ]
  },
  {
   "cell_type": "code",
   "execution_count": 77,
   "id": "da211870",
   "metadata": {},
   "outputs": [
    {
     "data": {
      "text/plain": [
       "False"
      ]
     },
     "execution_count": 77,
     "metadata": {},
     "output_type": "execute_result"
    }
   ],
   "source": [
    "is_Prime(9)"
   ]
  },
  {
   "cell_type": "code",
   "execution_count": 79,
   "id": "e4656d06",
   "metadata": {},
   "outputs": [],
   "source": [
    "# method 2:\n",
    "def isPrime(n):\n",
    "    if n!=0:\n",
    "        for i in range(2,n):\n",
    "            if n%i == 0:\n",
    "                return('it is not a prime number')\n",
    "        else:\n",
    "            return('It is a prime number')\n",
    "    else:\n",
    "        return ('O is neither a prime not composite')\n",
    "                "
   ]
  },
  {
   "cell_type": "code",
   "execution_count": 80,
   "id": "6dfde7c2",
   "metadata": {},
   "outputs": [
    {
     "data": {
      "text/plain": [
       "'it is not a prime number'"
      ]
     },
     "execution_count": 80,
     "metadata": {},
     "output_type": "execute_result"
    }
   ],
   "source": [
    "isPrime(9)"
   ]
  },
  {
   "cell_type": "markdown",
   "id": "71f0f2a8",
   "metadata": {},
   "source": [
    "Check adams number between 1 to 1000 inside of a function"
   ]
  },
  {
   "cell_type": "code",
   "execution_count": 57,
   "id": "d150827f",
   "metadata": {
    "scrolled": true
   },
   "outputs": [
    {
     "ename": "ValueError",
     "evalue": "invalid literal for int() with base 10: ''",
     "output_type": "error",
     "traceback": [
      "\u001b[1;31m---------------------------------------------------------------------------\u001b[0m",
      "\u001b[1;31mValueError\u001b[0m                                Traceback (most recent call last)",
      "Cell \u001b[1;32mIn[57], line 12\u001b[0m\n\u001b[0;32m      9\u001b[0m     \u001b[38;5;28;01mreturn\u001b[39;00m \u001b[38;5;28mstr\u001b[39m(square) \u001b[38;5;241m==\u001b[39m str_num\n\u001b[0;32m     11\u001b[0m \u001b[38;5;28;01mfor\u001b[39;00m num \u001b[38;5;129;01min\u001b[39;00m \u001b[38;5;28mrange\u001b[39m(\u001b[38;5;241m1\u001b[39m, \u001b[38;5;241m1000\u001b[39m):\n\u001b[1;32m---> 12\u001b[0m     \u001b[38;5;28;01mif\u001b[39;00m is_adam_number(num):\n\u001b[0;32m     13\u001b[0m         \u001b[38;5;28mprint\u001b[39m(num)\n",
      "Cell \u001b[1;32mIn[57], line 6\u001b[0m, in \u001b[0;36mis_adam_number\u001b[1;34m(num)\u001b[0m\n\u001b[0;32m      4\u001b[0m str_num \u001b[38;5;241m=\u001b[39m \u001b[38;5;28mstr\u001b[39m(num)\n\u001b[0;32m      5\u001b[0m mid_index \u001b[38;5;241m=\u001b[39m \u001b[38;5;28mlen\u001b[39m(str_num) \u001b[38;5;241m/\u001b[39m\u001b[38;5;241m/\u001b[39m \u001b[38;5;241m2\u001b[39m\n\u001b[1;32m----> 6\u001b[0m first_half \u001b[38;5;241m=\u001b[39m \u001b[38;5;28mint\u001b[39m(str_num[:mid_index])\n\u001b[0;32m      7\u001b[0m second_half \u001b[38;5;241m=\u001b[39m \u001b[38;5;28mint\u001b[39m(str_num[mid_index:])\n\u001b[0;32m      8\u001b[0m square \u001b[38;5;241m=\u001b[39m first_half \u001b[38;5;241m*\u001b[39m second_half\n",
      "\u001b[1;31mValueError\u001b[0m: invalid literal for int() with base 10: ''"
     ]
    }
   ],
   "source": [
    "def is_adam_number(num):\n",
    "    if num < 1 or num > 1000:\n",
    "        return False\n",
    "    str_num = str(num)\n",
    "    mid_index = len(str_num) // 2\n",
    "    first_half = int(str_num[:mid_index])\n",
    "    second_half = int(str_num[mid_index:])\n",
    "    square = first_half * second_half\n",
    "    return str(square) == str_num\n",
    "\n",
    "for num in range(1, 1000):\n",
    "    if is_adam_number(num):\n",
    "        print(num)\n"
   ]
  },
  {
   "cell_type": "code",
   "execution_count": 81,
   "id": "e92f9b15",
   "metadata": {},
   "outputs": [],
   "source": [
    "#Lambda Function"
   ]
  },
  {
   "cell_type": "code",
   "execution_count": 82,
   "id": "1690c2ae",
   "metadata": {},
   "outputs": [],
   "source": [
    "x = lambda a: a+4 # with argument"
   ]
  },
  {
   "cell_type": "code",
   "execution_count": 83,
   "id": "a45a0564",
   "metadata": {},
   "outputs": [
    {
     "data": {
      "text/plain": [
       "9"
      ]
     },
     "execution_count": 83,
     "metadata": {},
     "output_type": "execute_result"
    }
   ],
   "source": [
    "x(5)"
   ]
  },
  {
   "cell_type": "code",
   "execution_count": 86,
   "id": "6ab87c3e",
   "metadata": {},
   "outputs": [
    {
     "name": "stdout",
     "output_type": "stream",
     "text": [
      "hello\n"
     ]
    }
   ],
   "source": [
    "x=lambda : print(\"hello\") #without argument \n",
    "x()"
   ]
  },
  {
   "cell_type": "code",
   "execution_count": 87,
   "id": "a9cee674",
   "metadata": {},
   "outputs": [],
   "source": [
    "a = lambda n: \"this is a even no \" if n%2==0 else 'odd number'"
   ]
  },
  {
   "cell_type": "code",
   "execution_count": 88,
   "id": "e07f69e9",
   "metadata": {},
   "outputs": [
    {
     "data": {
      "text/plain": [
       "'odd number'"
      ]
     },
     "execution_count": 88,
     "metadata": {},
     "output_type": "execute_result"
    }
   ],
   "source": [
    "a(5)"
   ]
  },
  {
   "cell_type": "code",
   "execution_count": 90,
   "id": "427f1f87",
   "metadata": {},
   "outputs": [],
   "source": [
    "#recursion:"
   ]
  },
  {
   "cell_type": "code",
   "execution_count": 91,
   "id": "003b2ff8",
   "metadata": {},
   "outputs": [],
   "source": [
    "def fun():\n",
    "    return fun()\n"
   ]
  },
  {
   "cell_type": "code",
   "execution_count": 92,
   "id": "1d579aa5",
   "metadata": {
    "scrolled": true
   },
   "outputs": [
    {
     "ename": "RecursionError",
     "evalue": "maximum recursion depth exceeded",
     "output_type": "error",
     "traceback": [
      "\u001b[1;31m---------------------------------------------------------------------------\u001b[0m",
      "\u001b[1;31mRecursionError\u001b[0m                            Traceback (most recent call last)",
      "Cell \u001b[1;32mIn[92], line 1\u001b[0m\n\u001b[1;32m----> 1\u001b[0m fun()\n",
      "Cell \u001b[1;32mIn[91], line 2\u001b[0m, in \u001b[0;36mfun\u001b[1;34m()\u001b[0m\n\u001b[0;32m      1\u001b[0m \u001b[38;5;28;01mdef\u001b[39;00m \u001b[38;5;21mfun\u001b[39m():\n\u001b[1;32m----> 2\u001b[0m     \u001b[38;5;28;01mreturn\u001b[39;00m fun()\n",
      "Cell \u001b[1;32mIn[91], line 2\u001b[0m, in \u001b[0;36mfun\u001b[1;34m()\u001b[0m\n\u001b[0;32m      1\u001b[0m \u001b[38;5;28;01mdef\u001b[39;00m \u001b[38;5;21mfun\u001b[39m():\n\u001b[1;32m----> 2\u001b[0m     \u001b[38;5;28;01mreturn\u001b[39;00m fun()\n",
      "    \u001b[1;31m[... skipping similar frames: fun at line 2 (2971 times)]\u001b[0m\n",
      "Cell \u001b[1;32mIn[91], line 2\u001b[0m, in \u001b[0;36mfun\u001b[1;34m()\u001b[0m\n\u001b[0;32m      1\u001b[0m \u001b[38;5;28;01mdef\u001b[39;00m \u001b[38;5;21mfun\u001b[39m():\n\u001b[1;32m----> 2\u001b[0m     \u001b[38;5;28;01mreturn\u001b[39;00m fun()\n",
      "\u001b[1;31mRecursionError\u001b[0m: maximum recursion depth exceeded"
     ]
    }
   ],
   "source": [
    "fun()"
   ]
  },
  {
   "cell_type": "markdown",
   "id": "f25f968b",
   "metadata": {},
   "source": [
    "Factorial using recursion:"
   ]
  },
  {
   "cell_type": "code",
   "execution_count": 105,
   "id": "f1ea71cf",
   "metadata": {},
   "outputs": [],
   "source": [
    "def fact(n):\n",
    "    if n == 1 or n == 0:\n",
    "        return n\n",
    "    else:\n",
    "        return n*(fact(n-1))"
   ]
  },
  {
   "cell_type": "code",
   "execution_count": 110,
   "id": "ca4836ea",
   "metadata": {},
   "outputs": [
    {
     "data": {
      "text/plain": [
       "3628800"
      ]
     },
     "execution_count": 110,
     "metadata": {},
     "output_type": "execute_result"
    }
   ],
   "source": [
    "fact(10)"
   ]
  },
  {
   "cell_type": "code",
   "execution_count": 111,
   "id": "69a159c1",
   "metadata": {},
   "outputs": [],
   "source": [
    "def fact(n):\n",
    "    if n == 1:\n",
    "        return n\n",
    "    if n == 0:\n",
    "        return 1\n",
    "    else:\n",
    "        return n*(fact(n-1))"
   ]
  },
  {
   "cell_type": "code",
   "execution_count": 112,
   "id": "d16dc1b4",
   "metadata": {},
   "outputs": [
    {
     "data": {
      "text/plain": [
       "1"
      ]
     },
     "execution_count": 112,
     "metadata": {},
     "output_type": "execute_result"
    }
   ],
   "source": [
    "fact(0)"
   ]
  },
  {
   "cell_type": "code",
   "execution_count": 118,
   "id": "5204b11a",
   "metadata": {},
   "outputs": [],
   "source": [
    "def fact1(n):\n",
    "    if n == 1 or n == 0:\n",
    "        return n\n",
    "    else:\n",
    "        return n*(fact1(n-1))"
   ]
  },
  {
   "cell_type": "code",
   "execution_count": 119,
   "id": "fbeccb6f",
   "metadata": {},
   "outputs": [
    {
     "data": {
      "text/plain": [
       "6"
      ]
     },
     "execution_count": 119,
     "metadata": {},
     "output_type": "execute_result"
    }
   ],
   "source": [
    "fact1(3)"
   ]
  },
  {
   "cell_type": "code",
   "execution_count": null,
   "id": "175c25aa",
   "metadata": {},
   "outputs": [],
   "source": []
  }
 ],
 "metadata": {
  "kernelspec": {
   "display_name": "Python 3 (ipykernel)",
   "language": "python",
   "name": "python3"
  },
  "language_info": {
   "codemirror_mode": {
    "name": "ipython",
    "version": 3
   },
   "file_extension": ".py",
   "mimetype": "text/x-python",
   "name": "python",
   "nbconvert_exporter": "python",
   "pygments_lexer": "ipython3",
   "version": "3.11.5"
  }
 },
 "nbformat": 4,
 "nbformat_minor": 5
}
